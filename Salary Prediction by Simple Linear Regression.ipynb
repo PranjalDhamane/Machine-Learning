{
 "cells": [
  {
   "cell_type": "markdown",
   "id": "13dd03ac",
   "metadata": {},
   "source": [
    "# Salary Prediction by Simple Linear Regression"
   ]
  },
  {
   "cell_type": "code",
   "execution_count": 1,
   "id": "485f662b",
   "metadata": {},
   "outputs": [],
   "source": [
    "# importing libraries\n",
    "\n",
    "import numpy as no\n",
    "import matplotlib.pyplot as plt\n",
    "from sklearn.linear_model import LinearRegression\n",
    "import seaborn as sns\n",
    "sns.set_style('darkgrid')\n",
    "import pandas as pd\n",
    "from sklearn.metrics import mean_squared_error"
   ]
  },
  {
   "cell_type": "code",
   "execution_count": 2,
   "id": "93d7b3e8",
   "metadata": {},
   "outputs": [],
   "source": [
    "salary = pd.read_csv(r\"C:\\Users\\PRANJAL\\OneDrive\\Desktop\\Temp Python\\Salary_dataset.csv\",index_col = 0)"
   ]
  },
  {
   "cell_type": "markdown",
   "id": "098c11c8",
   "metadata": {},
   "source": [
    "## Data Exploration"
   ]
  },
  {
   "cell_type": "code",
   "execution_count": 3,
   "id": "31a3a803",
   "metadata": {},
   "outputs": [
    {
     "data": {
      "text/html": [
       "<div>\n",
       "<style scoped>\n",
       "    .dataframe tbody tr th:only-of-type {\n",
       "        vertical-align: middle;\n",
       "    }\n",
       "\n",
       "    .dataframe tbody tr th {\n",
       "        vertical-align: top;\n",
       "    }\n",
       "\n",
       "    .dataframe thead th {\n",
       "        text-align: right;\n",
       "    }\n",
       "</style>\n",
       "<table border=\"1\" class=\"dataframe\">\n",
       "  <thead>\n",
       "    <tr style=\"text-align: right;\">\n",
       "      <th></th>\n",
       "      <th>YearsExperience</th>\n",
       "      <th>Salary</th>\n",
       "    </tr>\n",
       "  </thead>\n",
       "  <tbody>\n",
       "    <tr>\n",
       "      <th>0</th>\n",
       "      <td>1.2</td>\n",
       "      <td>39344.0</td>\n",
       "    </tr>\n",
       "    <tr>\n",
       "      <th>1</th>\n",
       "      <td>1.4</td>\n",
       "      <td>46206.0</td>\n",
       "    </tr>\n",
       "    <tr>\n",
       "      <th>2</th>\n",
       "      <td>1.6</td>\n",
       "      <td>37732.0</td>\n",
       "    </tr>\n",
       "    <tr>\n",
       "      <th>3</th>\n",
       "      <td>2.1</td>\n",
       "      <td>43526.0</td>\n",
       "    </tr>\n",
       "    <tr>\n",
       "      <th>4</th>\n",
       "      <td>2.3</td>\n",
       "      <td>39892.0</td>\n",
       "    </tr>\n",
       "  </tbody>\n",
       "</table>\n",
       "</div>"
      ],
      "text/plain": [
       "   YearsExperience   Salary\n",
       "0              1.2  39344.0\n",
       "1              1.4  46206.0\n",
       "2              1.6  37732.0\n",
       "3              2.1  43526.0\n",
       "4              2.3  39892.0"
      ]
     },
     "metadata": {},
     "output_type": "display_data"
    },
    {
     "data": {
      "text/html": [
       "<div>\n",
       "<style scoped>\n",
       "    .dataframe tbody tr th:only-of-type {\n",
       "        vertical-align: middle;\n",
       "    }\n",
       "\n",
       "    .dataframe tbody tr th {\n",
       "        vertical-align: top;\n",
       "    }\n",
       "\n",
       "    .dataframe thead th {\n",
       "        text-align: right;\n",
       "    }\n",
       "</style>\n",
       "<table border=\"1\" class=\"dataframe\">\n",
       "  <thead>\n",
       "    <tr style=\"text-align: right;\">\n",
       "      <th></th>\n",
       "      <th>YearsExperience</th>\n",
       "      <th>Salary</th>\n",
       "    </tr>\n",
       "  </thead>\n",
       "  <tbody>\n",
       "    <tr>\n",
       "      <th>25</th>\n",
       "      <td>9.1</td>\n",
       "      <td>105583.0</td>\n",
       "    </tr>\n",
       "    <tr>\n",
       "      <th>26</th>\n",
       "      <td>9.6</td>\n",
       "      <td>116970.0</td>\n",
       "    </tr>\n",
       "    <tr>\n",
       "      <th>27</th>\n",
       "      <td>9.7</td>\n",
       "      <td>112636.0</td>\n",
       "    </tr>\n",
       "    <tr>\n",
       "      <th>28</th>\n",
       "      <td>10.4</td>\n",
       "      <td>122392.0</td>\n",
       "    </tr>\n",
       "    <tr>\n",
       "      <th>29</th>\n",
       "      <td>10.6</td>\n",
       "      <td>121873.0</td>\n",
       "    </tr>\n",
       "  </tbody>\n",
       "</table>\n",
       "</div>"
      ],
      "text/plain": [
       "    YearsExperience    Salary\n",
       "25              9.1  105583.0\n",
       "26              9.6  116970.0\n",
       "27              9.7  112636.0\n",
       "28             10.4  122392.0\n",
       "29             10.6  121873.0"
      ]
     },
     "metadata": {},
     "output_type": "display_data"
    }
   ],
   "source": [
    "# viewing the dataset\n",
    "\n",
    "display(salary.head(),salary.tail())"
   ]
  },
  {
   "cell_type": "code",
   "execution_count": 4,
   "id": "6c66872b",
   "metadata": {},
   "outputs": [
    {
     "data": {
      "text/plain": [
       "(30, 2)"
      ]
     },
     "execution_count": 4,
     "metadata": {},
     "output_type": "execute_result"
    }
   ],
   "source": [
    "salary.shape"
   ]
  },
  {
   "cell_type": "code",
   "execution_count": 5,
   "id": "4d24fe7c",
   "metadata": {},
   "outputs": [
    {
     "name": "stdout",
     "output_type": "stream",
     "text": [
      "<class 'pandas.core.frame.DataFrame'>\n",
      "Int64Index: 30 entries, 0 to 29\n",
      "Data columns (total 2 columns):\n",
      " #   Column           Non-Null Count  Dtype  \n",
      "---  ------           --------------  -----  \n",
      " 0   YearsExperience  30 non-null     float64\n",
      " 1   Salary           30 non-null     float64\n",
      "dtypes: float64(2)\n",
      "memory usage: 720.0 bytes\n"
     ]
    }
   ],
   "source": [
    "salary.info()"
   ]
  },
  {
   "cell_type": "code",
   "execution_count": 6,
   "id": "c06481d4",
   "metadata": {},
   "outputs": [
    {
     "data": {
      "text/html": [
       "<div>\n",
       "<style scoped>\n",
       "    .dataframe tbody tr th:only-of-type {\n",
       "        vertical-align: middle;\n",
       "    }\n",
       "\n",
       "    .dataframe tbody tr th {\n",
       "        vertical-align: top;\n",
       "    }\n",
       "\n",
       "    .dataframe thead th {\n",
       "        text-align: right;\n",
       "    }\n",
       "</style>\n",
       "<table border=\"1\" class=\"dataframe\">\n",
       "  <thead>\n",
       "    <tr style=\"text-align: right;\">\n",
       "      <th></th>\n",
       "      <th>YearsExperience</th>\n",
       "      <th>Salary</th>\n",
       "    </tr>\n",
       "  </thead>\n",
       "  <tbody>\n",
       "    <tr>\n",
       "      <th>count</th>\n",
       "      <td>30.000000</td>\n",
       "      <td>30.000000</td>\n",
       "    </tr>\n",
       "    <tr>\n",
       "      <th>mean</th>\n",
       "      <td>5.413333</td>\n",
       "      <td>76004.000000</td>\n",
       "    </tr>\n",
       "    <tr>\n",
       "      <th>std</th>\n",
       "      <td>2.837888</td>\n",
       "      <td>27414.429785</td>\n",
       "    </tr>\n",
       "    <tr>\n",
       "      <th>min</th>\n",
       "      <td>1.200000</td>\n",
       "      <td>37732.000000</td>\n",
       "    </tr>\n",
       "    <tr>\n",
       "      <th>25%</th>\n",
       "      <td>3.300000</td>\n",
       "      <td>56721.750000</td>\n",
       "    </tr>\n",
       "    <tr>\n",
       "      <th>50%</th>\n",
       "      <td>4.800000</td>\n",
       "      <td>65238.000000</td>\n",
       "    </tr>\n",
       "    <tr>\n",
       "      <th>75%</th>\n",
       "      <td>7.800000</td>\n",
       "      <td>100545.750000</td>\n",
       "    </tr>\n",
       "    <tr>\n",
       "      <th>max</th>\n",
       "      <td>10.600000</td>\n",
       "      <td>122392.000000</td>\n",
       "    </tr>\n",
       "  </tbody>\n",
       "</table>\n",
       "</div>"
      ],
      "text/plain": [
       "       YearsExperience         Salary\n",
       "count        30.000000      30.000000\n",
       "mean          5.413333   76004.000000\n",
       "std           2.837888   27414.429785\n",
       "min           1.200000   37732.000000\n",
       "25%           3.300000   56721.750000\n",
       "50%           4.800000   65238.000000\n",
       "75%           7.800000  100545.750000\n",
       "max          10.600000  122392.000000"
      ]
     },
     "execution_count": 6,
     "metadata": {},
     "output_type": "execute_result"
    }
   ],
   "source": [
    "salary.describe()"
   ]
  },
  {
   "cell_type": "markdown",
   "id": "7dca04ae",
   "metadata": {},
   "source": [
    "## Data Cleaning"
   ]
  },
  {
   "cell_type": "code",
   "execution_count": 7,
   "id": "5f316139",
   "metadata": {},
   "outputs": [
    {
     "data": {
      "text/plain": [
       "YearsExperience    0\n",
       "Salary             0\n",
       "dtype: int64"
      ]
     },
     "execution_count": 7,
     "metadata": {},
     "output_type": "execute_result"
    }
   ],
   "source": [
    "salary.isnull().sum()"
   ]
  },
  {
   "cell_type": "markdown",
   "id": "55c837bd",
   "metadata": {},
   "source": [
    "**Inference:** There are no null values,the dataset is clean"
   ]
  },
  {
   "cell_type": "code",
   "execution_count": 8,
   "id": "a088c5fb",
   "metadata": {},
   "outputs": [
    {
     "name": "stderr",
     "output_type": "stream",
     "text": [
      "C:\\Users\\PRANJAL\\.conda\\lib\\site-packages\\seaborn\\_decorators.py:36: FutureWarning: Pass the following variable as a keyword arg: x. From version 0.12, the only valid positional argument will be `data`, and passing other arguments without an explicit keyword will result in an error or misinterpretation.\n",
      "  warnings.warn(\n"
     ]
    },
    {
     "data": {
      "image/png": "[encoded data removed]",
      "text/plain": [
       "<Figure size 640x480 with 1 Axes>"
      ]
     },
     "metadata": {},
     "output_type": "display_data"
    }
   ],
   "source": [
    "# outlier analysis\n",
    "sns.boxplot(salary['YearsExperience']);\n",
    "plt.title('Boxplot of Years of Experience')\n",
    "plt.show()"
   ]
  },
  {
   "cell_type": "markdown",
   "id": "64391ec5",
   "metadata": {},
   "source": [
    "**Inference :** There is no outlier in the dataset."
   ]
  },
  {
   "cell_type": "code",
   "execution_count": 9,
   "id": "ad98cc8a",
   "metadata": {},
   "outputs": [],
   "source": [
    "#Defining linear model\n",
    "reg =LinearRegression()"
   ]
  },
  {
   "cell_type": "code",
   "execution_count": 10,
   "id": "6f9acf31",
   "metadata": {},
   "outputs": [],
   "source": [
    "# defining dependent (salary)and independent (Years of Experience)variable\n",
    "x = salary['YearsExperience']\n",
    "y = salary['Salary']"
   ]
  },
  {
   "cell_type": "code",
   "execution_count": 11,
   "id": "2098f999",
   "metadata": {},
   "outputs": [],
   "source": [
    "# reshaping x \n",
    "x = x.array.reshape(-1,1)"
   ]
  },
  {
   "cell_type": "code",
   "execution_count": 12,
   "id": "3ca94776",
   "metadata": {},
   "outputs": [
    {
     "data": {
      "text/plain": [
       "LinearRegression()"
      ]
     },
     "execution_count": 12,
     "metadata": {},
     "output_type": "execute_result"
    }
   ],
   "source": [
    "reg.fit(x,y)"
   ]
  },
  {
   "cell_type": "code",
   "execution_count": 13,
   "id": "80d46dfe",
   "metadata": {
    "scrolled": true
   },
   "outputs": [],
   "source": [
    "#predicting y based on x\n",
    "y_pred = (reg.predict(x))"
   ]
  },
  {
   "cell_type": "code",
   "execution_count": 14,
   "id": "96b16cf3",
   "metadata": {},
   "outputs": [
    {
     "data": {
      "image/png": "[encoded data removed]",
      "text/plain": [
       "<Figure size 640x480 with 1 Axes>"
      ]
     },
     "metadata": {},
     "output_type": "display_data"
    }
   ],
   "source": [
    "plt.scatter(x,y)\n",
    "plt.plot(x,y_pred,color = 'red')\n",
    "plt.show()"
   ]
  },
  {
   "cell_type": "code",
   "execution_count": 15,
   "id": "dc28bf14",
   "metadata": {},
   "outputs": [],
   "source": [
    "# checking coefficeint \n",
    "\n",
    "coef = reg.coef_"
   ]
  },
  {
   "cell_type": "code",
   "execution_count": 16,
   "id": "801c0459",
   "metadata": {},
   "outputs": [],
   "source": [
    "# checking intercept\n",
    "\n",
    "intercept = reg.intercept_"
   ]
  },
  {
   "cell_type": "code",
   "execution_count": 17,
   "id": "f7513403",
   "metadata": {},
   "outputs": [
    {
     "name": "stdout",
     "output_type": "stream",
     "text": [
      "[9449.96232146] 24848.203966523222\n"
     ]
    }
   ],
   "source": [
    "print(coef,intercept)"
   ]
  },
  {
   "cell_type": "markdown",
   "id": "d532cb1b",
   "metadata": {},
   "source": [
    "## Model Evaluation"
   ]
  },
  {
   "cell_type": "code",
   "execution_count": 18,
   "id": "8eab731e",
   "metadata": {},
   "outputs": [
    {
     "name": "stdout",
     "output_type": "stream",
     "text": [
      "31270951.722280968\n"
     ]
    }
   ],
   "source": [
    "#calculating the error\n",
    "\n",
    "mse = mean_squared_error(y,y_pred)\n",
    "print(mse)"
   ]
  },
  {
   "cell_type": "code",
   "execution_count": 19,
   "id": "7e4771ac",
   "metadata": {},
   "outputs": [],
   "source": [
    "# residual analysis\n",
    "\n",
    "residual = (y_pred,y)"
   ]
  },
  {
   "cell_type": "code",
   "execution_count": 21,
   "id": "6cb8ce18",
   "metadata": {},
   "outputs": [
    {
     "name": "stderr",
     "output_type": "stream",
     "text": [
      "C:\\Users\\PRANJAL\\.conda\\lib\\site-packages\\seaborn\\distributions.py:2619: FutureWarning: `distplot` is a deprecated function and will be removed in a future version. Please adapt your code to use either `displot` (a figure-level function with similar flexibility) or `histplot` (an axes-level function for histograms).\n",
      "  warnings.warn(msg, FutureWarning)\n"
     ]
    },
    {
     "data": {
      "image/png": "[encoded data removed]",
      "text/plain": [
       "<Figure size 640x480 with 1 Axes>"
      ]
     },
     "metadata": {},
     "output_type": "display_data"
    }
   ],
   "source": [
    "sns.distplot(residual)\n",
    "plt.title(\"Error Term\")\n",
    "plt.show()"
   ]
  },
  {
   "cell_type": "markdown",
   "id": "ab8a258b",
   "metadata": {},
   "source": [
    "## Predicting values using `y = m*x+c`"
   ]
  },
  {
   "cell_type": "markdown",
   "id": "c3a73947",
   "metadata": {},
   "source": [
    "Where\n",
    "m => intercept\n",
    "c => slope"
   ]
  },
  {
   "cell_type": "code",
   "execution_count": 24,
   "id": "3cb38d29",
   "metadata": {},
   "outputs": [
    {
     "name": "stdout",
     "output_type": "stream",
     "text": [
      "[506414.04165192]\n"
     ]
    }
   ],
   "source": [
    "# manually predicting value if x = 50\n",
    "# y = m * x + c\n",
    "\n",
    "man_y = intercept*20 + coef\n",
    "print(man_y)"
   ]
  },
  {
   "cell_type": "markdown",
   "id": "b49fae65",
   "metadata": {},
   "source": [
    "Defining a function to carry out the same"
   ]
  },
  {
   "cell_type": "code",
   "execution_count": 25,
   "id": "19667e2e",
   "metadata": {},
   "outputs": [],
   "source": [
    "def PredictSalary(value):\n",
    "    pred = intercept*value+coef\n",
    "    return print(\"If years of experince is\",value,\"then the salary would be\",pred)"
   ]
  },
  {
   "cell_type": "code",
   "execution_count": 26,
   "id": "153ef04b",
   "metadata": {},
   "outputs": [
    {
     "name": "stdout",
     "output_type": "stream",
     "text": [
      "If years of experince is 1 then the salary would be [34298.16628798]\n"
     ]
    }
   ],
   "source": [
    "PredictSalary(1)"
   ]
  },
  {
   "cell_type": "code",
   "execution_count": 27,
   "id": "3b0a6a52",
   "metadata": {},
   "outputs": [
    {
     "name": "stdout",
     "output_type": "stream",
     "text": [
      "If years of experince is 10 then the salary would be [257932.00198669]\n"
     ]
    }
   ],
   "source": [
    "PredictSalary(10)"
   ]
  },
  {
   "cell_type": "code",
   "execution_count": 28,
   "id": "40538c63",
   "metadata": {},
   "outputs": [
    {
     "name": "stdout",
     "output_type": "stream",
     "text": [
      "If years of experince is 25 then the salary would be [630655.06148454]\n"
     ]
    }
   ],
   "source": [
    "PredictSalary(25)"
   ]
  },
  {
   "cell_type": "markdown",
   "id": "54ac3890",
   "metadata": {},
   "source": [
    "### Author\n",
    "Pranjal Dhamane"
   ]
  }
 ],
 "metadata": {
  "kernelspec": {
   "display_name": "Python 3 (ipykernel)",
   "language": "python",
   "name": "python3"
  },
  "language_info": {
   "codemirror_mode": {
    "name": "ipython",
    "version": 3
   },
   "file_extension": ".py",
   "mimetype": "text/x-python",
   "name": "python",
   "nbconvert_exporter": "python",
   "pygments_lexer": "ipython3",
   "version": "3.9.13"
  }
 },
 "nbformat": 4,
 "nbformat_minor": 5
}
