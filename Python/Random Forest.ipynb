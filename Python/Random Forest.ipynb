{
 "cells": [
  {
   "cell_type": "code",
   "execution_count": 5,
   "metadata": {},
   "outputs": [
    {
     "data": {
      "text/plain": [
       "False"
      ]
     },
     "execution_count": 5,
     "metadata": {},
     "output_type": "execute_result"
    }
   ],
   "source": [
    "# importing packages\n",
    "import pandas as pd\n",
    "import numpy as np\n",
    "import matplotlib.pyplot as plt\n",
    "import seaborn as sns\n",
    "# from ydata_profiling import ProfileReport\n",
    "from sklearn.model_selection import train_test_split\n",
    "from sklearn.ensemble import RandomForestClassifier\n",
    "from sklearn.metrics import roc_auc_score\n",
    "from sklearn.ensemble import RandomForestClassifier\n",
    "\n",
    "%matplotlib inline\n",
    "sns.set_style('whitegrid')\n",
    "plt.rcParams['figure.dpi'] == 300"
   ]
  },
  {
   "cell_type": "code",
   "execution_count": 12,
   "metadata": {},
   "outputs": [
    {
     "data": {
      "text/plain": [
       "(5000, 8)"
      ]
     },
     "metadata": {},
     "output_type": "display_data"
    },
    {
     "data": {
      "text/plain": [
       "(5000, 7)"
      ]
     },
     "metadata": {},
     "output_type": "display_data"
    },
    {
     "data": {
      "text/plain": [
       "(5000, 14)"
      ]
     },
     "metadata": {},
     "output_type": "display_data"
    }
   ],
   "source": [
    "# import and merging the datasets\n",
    "df1 = pd.read_csv(\"../Data/Part2 - Data1.csv\")\n",
    "df2 = pd.read_csv(\"../Data/Part2 -Data2.csv\")\n",
    "display(df1.shape,df2.shape)\n",
    "df = pd.merge(df1, df2, on='ID', how='inner',\n",
    "               validate=\"many_to_many\")\n",
    "display(df.shape)\n",
    "# converting column names into lowercase\n",
    "df.columns = df.columns.str.lower()"
   ]
  },
  {
   "cell_type": "code",
   "execution_count": 13,
   "metadata": {},
   "outputs": [
    {
     "data": {
      "text/html": [
       "<div>\n",
       "<style scoped>\n",
       "    .dataframe tbody tr th:only-of-type {\n",
       "        vertical-align: middle;\n",
       "    }\n",
       "\n",
       "    .dataframe tbody tr th {\n",
       "        vertical-align: top;\n",
       "    }\n",
       "\n",
       "    .dataframe thead th {\n",
       "        text-align: right;\n",
       "    }\n",
       "</style>\n",
       "<table border=\"1\" class=\"dataframe\">\n",
       "  <thead>\n",
       "    <tr style=\"text-align: right;\">\n",
       "      <th></th>\n",
       "      <th>id</th>\n",
       "      <th>age</th>\n",
       "      <th>customersince</th>\n",
       "      <th>highestspend</th>\n",
       "      <th>zipcode</th>\n",
       "      <th>hiddenscore</th>\n",
       "      <th>monthlyaveragespend</th>\n",
       "      <th>level</th>\n",
       "      <th>mortgage</th>\n",
       "      <th>security</th>\n",
       "      <th>fixeddepositaccount</th>\n",
       "      <th>internetbanking</th>\n",
       "      <th>creditcard</th>\n",
       "      <th>loanoncard</th>\n",
       "    </tr>\n",
       "  </thead>\n",
       "  <tbody>\n",
       "    <tr>\n",
       "      <th>4060</th>\n",
       "      <td>4061</td>\n",
       "      <td>31</td>\n",
       "      <td>6</td>\n",
       "      <td>174</td>\n",
       "      <td>93023</td>\n",
       "      <td>2</td>\n",
       "      <td>6.7</td>\n",
       "      <td>1</td>\n",
       "      <td>0</td>\n",
       "      <td>0</td>\n",
       "      <td>0</td>\n",
       "      <td>1</td>\n",
       "      <td>1</td>\n",
       "      <td>0.0</td>\n",
       "    </tr>\n",
       "    <tr>\n",
       "      <th>1547</th>\n",
       "      <td>1548</td>\n",
       "      <td>47</td>\n",
       "      <td>21</td>\n",
       "      <td>52</td>\n",
       "      <td>94720</td>\n",
       "      <td>1</td>\n",
       "      <td>1.2</td>\n",
       "      <td>2</td>\n",
       "      <td>194</td>\n",
       "      <td>0</td>\n",
       "      <td>0</td>\n",
       "      <td>0</td>\n",
       "      <td>0</td>\n",
       "      <td>0.0</td>\n",
       "    </tr>\n",
       "    <tr>\n",
       "      <th>1654</th>\n",
       "      <td>1655</td>\n",
       "      <td>60</td>\n",
       "      <td>34</td>\n",
       "      <td>102</td>\n",
       "      <td>94305</td>\n",
       "      <td>2</td>\n",
       "      <td>2.0</td>\n",
       "      <td>1</td>\n",
       "      <td>0</td>\n",
       "      <td>0</td>\n",
       "      <td>0</td>\n",
       "      <td>1</td>\n",
       "      <td>1</td>\n",
       "      <td>0.0</td>\n",
       "    </tr>\n",
       "    <tr>\n",
       "      <th>1166</th>\n",
       "      <td>1167</td>\n",
       "      <td>30</td>\n",
       "      <td>5</td>\n",
       "      <td>112</td>\n",
       "      <td>91711</td>\n",
       "      <td>4</td>\n",
       "      <td>5.0</td>\n",
       "      <td>2</td>\n",
       "      <td>0</td>\n",
       "      <td>0</td>\n",
       "      <td>0</td>\n",
       "      <td>0</td>\n",
       "      <td>1</td>\n",
       "      <td>1.0</td>\n",
       "    </tr>\n",
       "    <tr>\n",
       "      <th>2411</th>\n",
       "      <td>2412</td>\n",
       "      <td>47</td>\n",
       "      <td>22</td>\n",
       "      <td>65</td>\n",
       "      <td>91330</td>\n",
       "      <td>3</td>\n",
       "      <td>2.7</td>\n",
       "      <td>2</td>\n",
       "      <td>0</td>\n",
       "      <td>0</td>\n",
       "      <td>0</td>\n",
       "      <td>1</td>\n",
       "      <td>0</td>\n",
       "      <td>0.0</td>\n",
       "    </tr>\n",
       "  </tbody>\n",
       "</table>\n",
       "</div>"
      ],
      "text/plain": [
       "        id  age  customersince  highestspend  zipcode  hiddenscore  \\\n",
       "4060  4061   31              6           174    93023            2   \n",
       "1547  1548   47             21            52    94720            1   \n",
       "1654  1655   60             34           102    94305            2   \n",
       "1166  1167   30              5           112    91711            4   \n",
       "2411  2412   47             22            65    91330            3   \n",
       "\n",
       "      monthlyaveragespend  level  mortgage  security  fixeddepositaccount  \\\n",
       "4060                  6.7      1         0         0                    0   \n",
       "1547                  1.2      2       194         0                    0   \n",
       "1654                  2.0      1         0         0                    0   \n",
       "1166                  5.0      2         0         0                    0   \n",
       "2411                  2.7      2         0         0                    0   \n",
       "\n",
       "      internetbanking  creditcard  loanoncard  \n",
       "4060                1           1         0.0  \n",
       "1547                0           0         0.0  \n",
       "1654                1           1         0.0  \n",
       "1166                0           1         1.0  \n",
       "2411                1           0         0.0  "
      ]
     },
     "metadata": {},
     "output_type": "display_data"
    }
   ],
   "source": [
    "# glancing at the dataset\n",
    "display(df.sample(5))"
   ]
  },
  {
   "cell_type": "code",
   "execution_count": 14,
   "metadata": {},
   "outputs": [],
   "source": [
    "#profile = ProfileReport(df, title='Dataframe Report')\n",
    "#profile"
   ]
  },
  {
   "cell_type": "markdown",
   "metadata": {},
   "source": [
    "Data Cleaning"
   ]
  },
  {
   "cell_type": "code",
   "execution_count": 16,
   "metadata": {},
   "outputs": [
    {
     "data": {
      "text/plain": [
       "(4980, 14)"
      ]
     },
     "execution_count": 16,
     "metadata": {},
     "output_type": "execute_result"
    }
   ],
   "source": [
    "# dropping the mising value\n",
    "df.shape\n",
    "df.dropna(inplace=True)\n",
    "df.shape"
   ]
  },
  {
   "cell_type": "code",
   "execution_count": 17,
   "metadata": {},
   "outputs": [
    {
     "name": "stdout",
     "output_type": "stream",
     "text": [
      "Number of true: 480 (9.64%)\n",
      "Number of false: 4500 (90.361%)\n"
     ]
    }
   ],
   "source": [
    "# checking the distribution of target variable\n",
    "def check_imbalance(df, class_column='class'):\n",
    "    no_of_true = len(df.loc[df[class_column] == True])\n",
    "    no_of_false = len(df.loc[df[class_column] == False])\n",
    "\n",
    "    true_ratio = (no_of_true / (no_of_true + no_of_false))\n",
    "    false_ratio = (no_of_false / (no_of_false + no_of_true))\n",
    "\n",
    "    print(f\"Number of true: {no_of_true} ({round(true_ratio, 4) * 100}%)\")\n",
    "    print(f\"Number of false: {no_of_false} ({round(false_ratio, 5) * 100}%)\")\n",
    "check_imbalance(df,class_column='loanoncard')"
   ]
  },
  {
   "cell_type": "code",
   "execution_count": 18,
   "metadata": {},
   "outputs": [],
   "source": [
    "X = df.drop(['loanoncard','zipcode','id'], axis=1)\n",
    "y = df['loanoncard']\n",
    "\n",
    "# Splitting the dataset into training set and test set\n",
    "X_train, X_test, y_train, y_test = train_test_split(X, y, test_size=0.3, random_state=23)"
   ]
  },
  {
   "cell_type": "code",
   "execution_count": 19,
   "metadata": {},
   "outputs": [
    {
     "data": {
      "text/plain": [
       "RandomForestClassifier(n_estimators=10, random_state=23)"
      ]
     },
     "execution_count": 19,
     "metadata": {},
     "output_type": "execute_result"
    }
   ],
   "source": [
    "random_forest = RandomForestClassifier(n_estimators=10, random_state=23)\n",
    "random_forest.fit(X_train,y_train)"
   ]
  },
  {
   "cell_type": "code",
   "execution_count": 20,
   "metadata": {},
   "outputs": [
    {
     "name": "stdout",
     "output_type": "stream",
     "text": [
      "Training set accuracy 0.9991394148020654\n",
      "Testing set accuracy 0.9825970548862115\n"
     ]
    }
   ],
   "source": [
    "# checking the accuracy score of a classifier on both train and test\n",
    "print(f\"Training set accuracy {random_forest.score(X_train, y_train)}\")\n",
    "print(f\"Testing set accuracy {random_forest.score(X_test,y_test)}\")"
   ]
  },
  {
   "cell_type": "code",
   "execution_count": 21,
   "metadata": {},
   "outputs": [],
   "source": [
    "n = [100,200,300]\n",
    "d = [5,10,20,30,40]\n",
    "l = [300,400,500]\n",
    "seed = 1\n",
    "\n",
    "def random_forest_tuning(x_train, x_test, y_train, y_test, n, d, l, seed):\n",
    "\n",
    "    model_performance = []\n",
    "\n",
    "    for i in n:\n",
    "        for j in d:\n",
    "            for k in l:\n",
    "                # Create and train the Random Forest model\n",
    "                random_forest = RandomForestClassifier(\n",
    "                    n_estimators=i,\n",
    "                    max_depth=j,\n",
    "                    min_samples_leaf=k,\n",
    "                    random_state=seed\n",
    "                )\n",
    "                random_forest.fit(x_train, y_train.ravel())\n",
    "\n",
    "                # Predict probabilities on the training and testing sets\n",
    "                train_pred = random_forest.predict_proba(x_train)\n",
    "                test_pred = random_forest.predict_proba(x_test)\n",
    "\n",
    "                # Create a unique identifier for the current set of hyperparameters\n",
    "                t1 = f'trees{i}_maxDepth{j}_minLeaf{k}'\n",
    "\n",
    "                # Calculate and store AUC-ROC scores for training and testing sets\n",
    "                t2 = [t1, round(roc_auc_score(y_train, train_pred[:, 1]), 4), round(roc_auc_score(y_test, test_pred[:, 1]), 4)]\n",
    "                model_performance.append(t2)\n",
    "\n",
    "    # Create a DataFrame from the collected performance metrics\n",
    "    model_performance_df = pd.DataFrame(model_performance)\n",
    "    model_performance_df.rename(columns={0: 'parameter', 1: 'train_auc', 2: 'test_auc'}, inplace=True)\n",
    "\n",
    "    return model_performance_df\n",
    "\n",
    "model_performance_df = random_forest_tuning(n=n, d=d, l=l, seed=seed,\n",
    "                     x_train=X_train,x_test=X_test,\n",
    "                     y_train=y_train, y_test=y_test)"
   ]
  },
  {
   "cell_type": "code",
   "execution_count": 22,
   "metadata": {},
   "outputs": [
    {
     "data": {
      "text/html": [
       "<div>\n",
       "<style scoped>\n",
       "    .dataframe tbody tr th:only-of-type {\n",
       "        vertical-align: middle;\n",
       "    }\n",
       "\n",
       "    .dataframe tbody tr th {\n",
       "        vertical-align: top;\n",
       "    }\n",
       "\n",
       "    .dataframe thead th {\n",
       "        text-align: right;\n",
       "    }\n",
       "</style>\n",
       "<table border=\"1\" class=\"dataframe\">\n",
       "  <thead>\n",
       "    <tr style=\"text-align: right;\">\n",
       "      <th></th>\n",
       "      <th>parameter</th>\n",
       "      <th>train_auc</th>\n",
       "      <th>test_auc</th>\n",
       "    </tr>\n",
       "  </thead>\n",
       "  <tbody>\n",
       "    <tr>\n",
       "      <th>0</th>\n",
       "      <td>trees100_maxDepth5_minLeaf300</td>\n",
       "      <td>0.9610</td>\n",
       "      <td>0.9434</td>\n",
       "    </tr>\n",
       "    <tr>\n",
       "      <th>1</th>\n",
       "      <td>trees100_maxDepth5_minLeaf400</td>\n",
       "      <td>0.9612</td>\n",
       "      <td>0.9444</td>\n",
       "    </tr>\n",
       "    <tr>\n",
       "      <th>2</th>\n",
       "      <td>trees100_maxDepth5_minLeaf500</td>\n",
       "      <td>0.9555</td>\n",
       "      <td>0.9460</td>\n",
       "    </tr>\n",
       "    <tr>\n",
       "      <th>3</th>\n",
       "      <td>trees100_maxDepth10_minLeaf300</td>\n",
       "      <td>0.9610</td>\n",
       "      <td>0.9434</td>\n",
       "    </tr>\n",
       "    <tr>\n",
       "      <th>4</th>\n",
       "      <td>trees100_maxDepth10_minLeaf400</td>\n",
       "      <td>0.9612</td>\n",
       "      <td>0.9444</td>\n",
       "    </tr>\n",
       "  </tbody>\n",
       "</table>\n",
       "</div>"
      ],
      "text/plain": [
       "                        parameter  train_auc  test_auc\n",
       "0   trees100_maxDepth5_minLeaf300     0.9610    0.9434\n",
       "1   trees100_maxDepth5_minLeaf400     0.9612    0.9444\n",
       "2   trees100_maxDepth5_minLeaf500     0.9555    0.9460\n",
       "3  trees100_maxDepth10_minLeaf300     0.9610    0.9434\n",
       "4  trees100_maxDepth10_minLeaf400     0.9612    0.9444"
      ]
     },
     "execution_count": 22,
     "metadata": {},
     "output_type": "execute_result"
    }
   ],
   "source": [
    "model_performance_df.head()"
   ]
  },
  {
   "cell_type": "markdown",
   "metadata": {},
   "source": [
    "2nd round of tuning"
   ]
  },
  {
   "cell_type": "code",
   "execution_count": 23,
   "metadata": {},
   "outputs": [],
   "source": [
    "n = [50,100,150]\n",
    "d = [5,6,7,8,9,10,20,30,40]\n",
    "l = [100,200,225,250,275,300,325,350,375]\n",
    "seed = 1\n",
    "\n",
    "model_performance_df = random_forest_tuning(n=n, d=d, l=l, seed=seed,\n",
    "                     x_train=X_train,x_test=X_test,\n",
    "                     y_train=y_train, y_test=y_test)"
   ]
  },
  {
   "cell_type": "code",
   "execution_count": 24,
   "metadata": {},
   "outputs": [
    {
     "data": {
      "text/html": [
       "<div>\n",
       "<style scoped>\n",
       "    .dataframe tbody tr th:only-of-type {\n",
       "        vertical-align: middle;\n",
       "    }\n",
       "\n",
       "    .dataframe tbody tr th {\n",
       "        vertical-align: top;\n",
       "    }\n",
       "\n",
       "    .dataframe thead th {\n",
       "        text-align: right;\n",
       "    }\n",
       "</style>\n",
       "<table border=\"1\" class=\"dataframe\">\n",
       "  <thead>\n",
       "    <tr style=\"text-align: right;\">\n",
       "      <th></th>\n",
       "      <th>parameter</th>\n",
       "      <th>train_auc</th>\n",
       "      <th>test_auc</th>\n",
       "    </tr>\n",
       "  </thead>\n",
       "  <tbody>\n",
       "    <tr>\n",
       "      <th>0</th>\n",
       "      <td>trees50_maxDepth5_minLeaf100</td>\n",
       "      <td>0.9869</td>\n",
       "      <td>0.9749</td>\n",
       "    </tr>\n",
       "    <tr>\n",
       "      <th>1</th>\n",
       "      <td>trees50_maxDepth5_minLeaf200</td>\n",
       "      <td>0.9748</td>\n",
       "      <td>0.9538</td>\n",
       "    </tr>\n",
       "    <tr>\n",
       "      <th>2</th>\n",
       "      <td>trees50_maxDepth5_minLeaf225</td>\n",
       "      <td>0.9732</td>\n",
       "      <td>0.9534</td>\n",
       "    </tr>\n",
       "    <tr>\n",
       "      <th>3</th>\n",
       "      <td>trees50_maxDepth5_minLeaf250</td>\n",
       "      <td>0.9662</td>\n",
       "      <td>0.9467</td>\n",
       "    </tr>\n",
       "    <tr>\n",
       "      <th>4</th>\n",
       "      <td>trees50_maxDepth5_minLeaf275</td>\n",
       "      <td>0.9634</td>\n",
       "      <td>0.9457</td>\n",
       "    </tr>\n",
       "  </tbody>\n",
       "</table>\n",
       "</div>"
      ],
      "text/plain": [
       "                      parameter  train_auc  test_auc\n",
       "0  trees50_maxDepth5_minLeaf100     0.9869    0.9749\n",
       "1  trees50_maxDepth5_minLeaf200     0.9748    0.9538\n",
       "2  trees50_maxDepth5_minLeaf225     0.9732    0.9534\n",
       "3  trees50_maxDepth5_minLeaf250     0.9662    0.9467\n",
       "4  trees50_maxDepth5_minLeaf275     0.9634    0.9457"
      ]
     },
     "execution_count": 24,
     "metadata": {},
     "output_type": "execute_result"
    }
   ],
   "source": [
    "model_performance_df.head()"
   ]
  },
  {
   "cell_type": "markdown",
   "metadata": {},
   "source": [
    "Best features"
   ]
  },
  {
   "cell_type": "code",
   "execution_count": 25,
   "metadata": {},
   "outputs": [
    {
     "name": "stdout",
     "output_type": "stream",
     "text": [
      "train auc :  0.9869\n",
      "test auc :  0.9749\n"
     ]
    }
   ],
   "source": [
    "random_forest = RandomForestClassifier(n_estimators=50,\n",
    "                                        max_depth=5,\n",
    "                                        random_state=1,\n",
    "                                        min_samples_leaf=100)\n",
    "random_forest.fit(X_train, y_train)\n",
    "train_pred = random_forest.predict_proba(X_train)\n",
    "test_pred = random_forest.predict_proba(X_test)\n",
    "print(\"train auc : \",round( roc_auc_score(y_train , train_pred[:,1]),4))\n",
    "print(\"test auc : \",round( roc_auc_score(y_test , test_pred[:,1]),4))"
   ]
  },
  {
   "cell_type": "code",
   "execution_count": 26,
   "metadata": {},
   "outputs": [
    {
     "data": {
      "text/html": [
       "<div>\n",
       "<style scoped>\n",
       "    .dataframe tbody tr th:only-of-type {\n",
       "        vertical-align: middle;\n",
       "    }\n",
       "\n",
       "    .dataframe tbody tr th {\n",
       "        vertical-align: top;\n",
       "    }\n",
       "\n",
       "    .dataframe thead th {\n",
       "        text-align: right;\n",
       "    }\n",
       "</style>\n",
       "<table border=\"1\" class=\"dataframe\">\n",
       "  <thead>\n",
       "    <tr style=\"text-align: right;\">\n",
       "      <th></th>\n",
       "      <th>name</th>\n",
       "      <th>importance</th>\n",
       "    </tr>\n",
       "  </thead>\n",
       "  <tbody>\n",
       "    <tr>\n",
       "      <th>2</th>\n",
       "      <td>highestspend</td>\n",
       "      <td>0.478470</td>\n",
       "    </tr>\n",
       "    <tr>\n",
       "      <th>4</th>\n",
       "      <td>monthlyaveragespend</td>\n",
       "      <td>0.267936</td>\n",
       "    </tr>\n",
       "    <tr>\n",
       "      <th>5</th>\n",
       "      <td>level</td>\n",
       "      <td>0.122108</td>\n",
       "    </tr>\n",
       "    <tr>\n",
       "      <th>8</th>\n",
       "      <td>fixeddepositaccount</td>\n",
       "      <td>0.067449</td>\n",
       "    </tr>\n",
       "    <tr>\n",
       "      <th>6</th>\n",
       "      <td>mortgage</td>\n",
       "      <td>0.026159</td>\n",
       "    </tr>\n",
       "  </tbody>\n",
       "</table>\n",
       "</div>"
      ],
      "text/plain": [
       "                  name  importance\n",
       "2         highestspend    0.478470\n",
       "4  monthlyaveragespend    0.267936\n",
       "5                level    0.122108\n",
       "8  fixeddepositaccount    0.067449\n",
       "6             mortgage    0.026159"
      ]
     },
     "execution_count": 26,
     "metadata": {},
     "output_type": "execute_result"
    }
   ],
   "source": [
    "def get_feature_importance(X_train, model, top_n=5):\n",
    "    \n",
    "    feature_importances = model.feature_importances_\n",
    "\n",
    "    t1 = []\n",
    "    for i in range(len(X_train.columns)):\n",
    "        t2 = [X_train.columns[i], feature_importances[i]]\n",
    "        t1.append(t2)\n",
    "\n",
    "    imp_feat_df = pd.DataFrame(t1, columns=['name', 'importance'])\n",
    "    imp_feat_df = imp_feat_df.sort_values(by=['importance'], ascending=False).head(top_n)\n",
    "\n",
    "    return imp_feat_df\n",
    "get_feature_importance(X_train,random_forest,5)"
   ]
  }
 ],
 "metadata": {
  "kernelspec": {
   "display_name": "base",
   "language": "python",
   "name": "python3"
  },
  "language_info": {
   "codemirror_mode": {
    "name": "ipython",
    "version": 3
   },
   "file_extension": ".py",
   "mimetype": "text/x-python",
   "name": "python",
   "nbconvert_exporter": "python",
   "pygments_lexer": "ipython3",
   "version": "3.9.13"
  }
 },
 "nbformat": 4,
 "nbformat_minor": 2
}
